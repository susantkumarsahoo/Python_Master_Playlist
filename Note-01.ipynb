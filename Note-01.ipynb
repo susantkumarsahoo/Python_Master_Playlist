{
 "cells": [
  {
   "cell_type": "code",
   "execution_count": 1,
   "id": "9de8aff8",
   "metadata": {},
   "outputs": [
    {
     "name": "stdout",
     "output_type": "stream",
     "text": [
      "ok\n"
     ]
    }
   ],
   "source": [
    "print(\"ok\")"
   ]
  },
  {
   "cell_type": "code",
   "execution_count": 12,
   "id": "e0604320",
   "metadata": {},
   "outputs": [],
   "source": [
    "# class praticses\n",
    "\n",
    "class student:\n",
    "    def __init__(self, name,age):\n",
    "\n",
    "        self.name = name\n",
    "        self.age = age\n",
    "    \n",
    "\n",
    "    def introduce(self):\n",
    "        return f\"Hi, I'm {self.name} and I'm {self.age} years old\"\n",
    "\n",
    "    def initial_name(self):\n",
    "        self.age +=1\n",
    "        print (f\"hi u! {self.name} and old  age {self.age} fgshuuudh\")\n",
    "\n",
    "\n",
    "# creating isinstance\n",
    "std1 = student('alice',20)\n",
    "std2 = student('mx',19)\n"
   ]
  },
  {
   "cell_type": "code",
   "execution_count": 14,
   "id": "1106cecd",
   "metadata": {},
   "outputs": [
    {
     "name": "stdout",
     "output_type": "stream",
     "text": [
      "Hi, I'm alice and I'm 20 years old\n"
     ]
    }
   ],
   "source": [
    "print(std1.introduce())"
   ]
  },
  {
   "cell_type": "code",
   "execution_count": 16,
   "id": "47044433",
   "metadata": {},
   "outputs": [
    {
     "name": "stdout",
     "output_type": "stream",
     "text": [
      "hi u! mx and old  age 20 fgshuuudh\n",
      "None\n"
     ]
    }
   ],
   "source": [
    "print(std2.initial_name())"
   ]
  },
  {
   "cell_type": "code",
   "execution_count": 17,
   "id": "1b874050",
   "metadata": {},
   "outputs": [
    {
     "name": "stdout",
     "output_type": "stream",
     "text": [
      "Current age of p1: 30\n",
      "Happy Birthday! You are now 31 years old.\n",
      "New age of p1: 31\n"
     ]
    }
   ],
   "source": [
    "class Person:\n",
    "    def __init__(self, initial_age):\n",
    "        # The constructor method to initialize a new Person object.\n",
    "        self.age = initial_age\n",
    "\n",
    "    def celebrate_birthday(self):\n",
    "        # This method increments the person's age by 1.\n",
    "        self.age += 1\n",
    "        print(\"Happy Birthday! You are now\", self.age, \"years old.\")\n",
    "\n",
    "# Create an object named 'p1' from the Person class.\n",
    "p1 = Person(30)\n",
    "print(\"Current age of p1:\", p1.age)\n",
    "\n",
    "# Call the 'celebrate_birthday' method on the 'p1' object.\n",
    "p1.celebrate_birthday()\n",
    "print(\"New age of p1:\", p1.age)\n"
   ]
  },
  {
   "cell_type": "code",
   "execution_count": 18,
   "id": "df95c455",
   "metadata": {},
   "outputs": [
    {
     "name": "stdout",
     "output_type": "stream",
     "text": [
      "Hi, I'm Alice and I'm 20 years old\n",
      "Happy birthday! Bob is now 20\n"
     ]
    }
   ],
   "source": [
    "class Student:\n",
    "    def __init__(self, name, age):\n",
    "        self.name = name  # Instance variable\n",
    "        self.age = age    # Instance variable\n",
    "    \n",
    "    def introduce(self):\n",
    "        return f\"Hi, I'm {self.name} and I'm {self.age} years old\"\n",
    "    \n",
    "    def have_birthday(self):\n",
    "        self.age += 1  # Modifying instance variable\n",
    "        print(f\"Happy birthday! {self.name} is now {self.age}\")\n",
    "\n",
    "# Creating instances\n",
    "student1 = Student(\"Alice\", 20)\n",
    "student2 = Student(\"Bob\", 19)\n",
    "\n",
    "# Calling methods (self is passed automatically)\n",
    "print(student1.introduce())  # \"Hi, I'm Alice and I'm 20 years old\"\n",
    "student2.have_birthday()     # \"Happy birthday! Bob is now 20\""
   ]
  },
  {
   "cell_type": "code",
   "execution_count": 19,
   "id": "eddf990e",
   "metadata": {},
   "outputs": [],
   "source": [
    "# Example 1: Library Management System\n",
    "class Book:\n",
    "    def __init__(self, title, author, isbn):\n",
    "        self.title = title\n",
    "        self.author = author\n",
    "        self.isbn = isbn\n",
    "        self.is_borrowed = False\n",
    "    \n",
    "    def borrow(self):\n",
    "        if not self.is_borrowed:\n",
    "            self.is_borrowed = True\n",
    "            return f\"'{self.title}' borrowed successfully\"\n",
    "        return f\"'{self.title}' is already borrowed\"\n",
    "    \n",
    "    def return_book(self):\n",
    "        if self.is_borrowed:\n",
    "            self.is_borrowed = False\n",
    "            return f\"'{self.title}' returned successfully\"\n",
    "        return f\"'{self.title}' was not borrowed\"\n",
    "\n",
    "class Library:\n",
    "    def __init__(self):\n",
    "        self.books = []\n",
    "    \n",
    "    def add_book(self, book):\n",
    "        self.books.append(book)\n",
    "    \n",
    "    def find_book(self, title):\n",
    "        for book in self.books:\n",
    "            if book.title.lower() == title.lower():\n",
    "                return book\n",
    "        return None\n",
    "    \n",
    "    def display_available_books(self):\n",
    "        available = [book for book in self.books if not book.is_borrowed]\n",
    "        if available:\n",
    "            print(\"\\nAvailable Books:\")\n",
    "            for book in available:\n",
    "                print(f\"- {book.title} by {book.author}\")\n",
    "        else:\n",
    "            print(\"No books available\")"
   ]
  },
  {
   "cell_type": "code",
   "execution_count": 20,
   "id": "3af5d1b6",
   "metadata": {},
   "outputs": [
    {
     "name": "stdout",
     "output_type": "stream",
     "text": [
      "=== LIBRARY MANAGEMENT SYSTEM ===\n",
      "\n",
      "Available Books:\n",
      "- Python Programming by John Doe\n",
      "- Data Science by Jane Smith\n",
      "- Web Development by Bob Johnson\n",
      "'Python Programming' borrowed successfully\n",
      "\n",
      "Available Books:\n",
      "- Data Science by Jane Smith\n",
      "- Web Development by Bob Johnson\n",
      "\n",
      "==================================================\n",
      "\n"
     ]
    }
   ],
   "source": [
    "# Usage Example 1\n",
    "print(\"=== LIBRARY MANAGEMENT SYSTEM ===\")\n",
    "lib = Library()\n",
    "lib.add_book(Book(\"Python Programming\", \"John Doe\", \"123456\"))\n",
    "lib.add_book(Book(\"Data Science\", \"Jane Smith\", \"789012\"))\n",
    "lib.add_book(Book(\"Web Development\", \"Bob Johnson\", \"345678\"))\n",
    "\n",
    "lib.display_available_books()\n",
    "book = lib.find_book(\"Python Programming\")\n",
    "if book:\n",
    "    print(book.borrow())\n",
    "lib.display_available_books()\n",
    "\n",
    "print(\"\\n\" + \"=\"*50 + \"\\n\")"
   ]
  },
  {
   "cell_type": "code",
   "execution_count": 21,
   "id": "d7341358",
   "metadata": {},
   "outputs": [],
   "source": [
    "# Example 2: Banking System\n",
    "class BankAccount:\n",
    "    def __init__(self, account_number, owner_name, initial_balance=0):\n",
    "        self.account_number = account_number\n",
    "        self.owner_name = owner_name\n",
    "        self.balance = initial_balance\n",
    "        self.transaction_history = []\n",
    "    \n",
    "    def deposit(self, amount):\n",
    "        if amount > 0:\n",
    "            self.balance += amount\n",
    "            self.transaction_history.append(f\"Deposited: ${amount}\")\n",
    "            return f\"Deposited ${amount}. New balance: ${self.balance}\"\n",
    "        return \"Invalid deposit amount\"\n",
    "    \n",
    "    def withdraw(self, amount):\n",
    "        if amount > 0 and amount <= self.balance:\n",
    "            self.balance -= amount\n",
    "            self.transaction_history.append(f\"Withdrew: ${amount}\")\n",
    "            return f\"Withdrew ${amount}. New balance: ${self.balance}\"\n",
    "        return \"Insufficient funds or invalid amount\"\n",
    "    \n",
    "    def get_balance(self):\n",
    "        return self.balance\n",
    "    \n",
    "    def get_statement(self):\n",
    "        print(f\"\\nAccount Statement for {self.owner_name}\")\n",
    "        print(f\"Account Number: {self.account_number}\")\n",
    "        print(f\"Current Balance: ${self.balance}\")\n",
    "        print(\"Recent Transactions:\")\n",
    "        for transaction in self.transaction_history[-5:]:\n",
    "            print(f\"  - {transaction}\")\n",
    "\n",
    "class Bank:\n",
    "    def __init__(self, bank_name):\n",
    "        self.bank_name = bank_name\n",
    "        self.accounts = {}\n",
    "    \n",
    "    def create_account(self, account_number, owner_name, initial_balance=0):\n",
    "        if account_number not in self.accounts:\n",
    "            self.accounts[account_number] = BankAccount(account_number, owner_name, initial_balance)\n",
    "            return f\"Account created for {owner_name}\"\n",
    "        return \"Account number already exists\"\n",
    "    \n",
    "    def get_account(self, account_number):\n",
    "        return self.accounts.get(account_number)"
   ]
  },
  {
   "cell_type": "code",
   "execution_count": 22,
   "id": "14ea72cc",
   "metadata": {},
   "outputs": [
    {
     "name": "stdout",
     "output_type": "stream",
     "text": [
      "=== BANKING SYSTEM ===\n",
      "Account created for Alice Johnson\n",
      "Account created for Bob Smith\n",
      "Deposited $200. New balance: $1200\n",
      "Withdrew $150. New balance: $1050\n",
      "\n",
      "Account Statement for Alice Johnson\n",
      "Account Number: 12345\n",
      "Current Balance: $1050\n",
      "Recent Transactions:\n",
      "  - Deposited: $200\n",
      "  - Withdrew: $150\n",
      "\n",
      "==================================================\n",
      "\n"
     ]
    }
   ],
   "source": [
    "# Usage Example 2\n",
    "print(\"=== BANKING SYSTEM ===\")\n",
    "bank = Bank(\"MyBank\")\n",
    "print(bank.create_account(\"12345\", \"Alice Johnson\", 1000))\n",
    "print(bank.create_account(\"67890\", \"Bob Smith\", 500))\n",
    "\n",
    "alice_account = bank.get_account(\"12345\")\n",
    "if alice_account:\n",
    "    print(alice_account.deposit(200))\n",
    "    print(alice_account.withdraw(150))\n",
    "    alice_account.get_statement()\n",
    "\n",
    "print(\"\\n\" + \"=\"*50 + \"\\n\")"
   ]
  }
 ],
 "metadata": {
  "kernelspec": {
   "display_name": "myenv",
   "language": "python",
   "name": "python3"
  },
  "language_info": {
   "codemirror_mode": {
    "name": "ipython",
    "version": 3
   },
   "file_extension": ".py",
   "mimetype": "text/x-python",
   "name": "python",
   "nbconvert_exporter": "python",
   "pygments_lexer": "ipython3",
   "version": "3.10.18"
  }
 },
 "nbformat": 4,
 "nbformat_minor": 5
}
